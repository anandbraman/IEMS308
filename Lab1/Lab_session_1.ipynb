{
 "cells": [
  {
   "cell_type": "markdown",
   "metadata": {},
   "source": [
    "# IEMS 308 Lab Session 1 \n",
    "## TA: Andrea Treviño Gavito \n",
    "### January 13th, 2020."
   ]
  },
  {
   "cell_type": "markdown",
   "metadata": {},
   "source": [
    "## Python Basics "
   ]
  },
  {
   "cell_type": "markdown",
   "metadata": {},
   "source": [
    "When switching from R to Python, there are two major differences to begin with:\n",
    "\n",
    "1. Indexing: Indexes begin from 0 instead of 1. Python also supports negative indexing, i.e. indexing from the rear.\n",
    "2. Indentation: Demarcates blocks instead of curly brackets { }. For example, nested for loops"
   ]
  },
  {
   "cell_type": "code",
   "execution_count": null,
   "metadata": {},
   "outputs": [],
   "source": [
    "for i in range(10):\n",
    "    for j in range(3):\n",
    "        if i<j:\n",
    "            print(\"%d < %d\" %(i,j))"
   ]
  },
  {
   "cell_type": "markdown",
   "metadata": {},
   "source": [
    "There are primarily three data-structures which hold collections of objects: lists, tuples and dictionaries."
   ]
  },
  {
   "cell_type": "code",
   "execution_count": null,
   "metadata": {},
   "outputs": [],
   "source": [
    "# lists are quite similar to the ones in R: can hold different types\n",
    "l = [1,2.0,3.14e-5,'What?',9.99]  \n",
    "print(l)\n",
    "\n",
    "# One useful method - append (to the end)\n",
    "l.append(34)\n",
    "l.append([4,5,6])\n",
    "print(\"\\nList after append operations:\")\n",
    "print(l)\n",
    "\n",
    "# Negative indexing\n",
    "print(l[-2])"
   ]
  },
  {
   "cell_type": "code",
   "execution_count": null,
   "metadata": {},
   "outputs": [],
   "source": [
    "# Tuples are immnutable versions of lists - once created can't add or modify\n",
    "tup1 = (1,2.0,3.14e-5,'What?',9.99)\n",
    "tup1[3] = 0.4e-4 # returns a TypeError\n",
    "\n",
    "# Useful as arguments or return values of functions"
   ]
  },
  {
   "cell_type": "code",
   "execution_count": null,
   "metadata": {},
   "outputs": [],
   "source": [
    "# Dictionaries are used to map or associate things you want to store and the keys you need to get them.\n",
    "# They can be created by either { } or dict and are defined into two elements: Keys and Values.\n",
    "# Keys will be a single element (numeric or string).\n",
    "# Values can be a list or list within a list, numbers, etc.\n",
    "# There is no order in which elements are stored.\n",
    "\n",
    "d = {'list1':l,'tup1':tup1,'color':'orange','temperature':-30, 'example': 1234}\n",
    "\n",
    "\n",
    "# Adding new key-value pair\n",
    "d['zzz'] = \"sleeping\"\n",
    "\n",
    "# Deleting a value from the dictionary - access it by its key\n",
    "del d['example']\n",
    "\n",
    "print(d)"
   ]
  },
  {
   "cell_type": "code",
   "execution_count": null,
   "metadata": {},
   "outputs": [],
   "source": [
    "# Generator - Special kind of function that return an iterator. These are objects that you can loop over like a list\n",
    "\n",
    "# Dictionaries have some built-in generators to be used in for loops\n",
    "d.items() # returns list of key-value pairs\n",
    "d.keys() # returns list of keys\n",
    "d.values() # returns list of values\n",
    "\n",
    "# Example Usage in for loop\n",
    "for key,value in d.items():\n",
    "    print((key,value))"
   ]
  },
  {
   "cell_type": "code",
   "execution_count": null,
   "metadata": {},
   "outputs": [],
   "source": [
    "# Overwrite a dictionary\n",
    "d = {0: [0,1,2], 1.2 :[], '2': 2, 3.2: 3}\n",
    "print(d)\n",
    "\n",
    "# Other sintax to create a dictionary\n",
    "d = dict()  # equivalent to d = {}\n",
    "d['a'] = 'alpha'\n",
    "d['g'] = 'gamma'\n",
    "d['o'] = 'omega'\n",
    "print(d)"
   ]
  },
  {
   "cell_type": "code",
   "execution_count": null,
   "metadata": {},
   "outputs": [],
   "source": [
    "# Shorthand for operations - access objects using 'enumerate'(adds a counter to the iterator objects)\n",
    "l2 = [(i,z) for i,z in enumerate(l)] \n",
    "print(l2)"
   ]
  },
  {
   "cell_type": "markdown",
   "metadata": {},
   "source": [
    "### Functions"
   ]
  },
  {
   "cell_type": "markdown",
   "metadata": {
    "collapsed": true
   },
   "source": [
    "Functions in python have the following syntax:\n",
    "\n",
    "```python\n",
    "def function_name(arg1,arg2,...,argn):\n",
    "    # some operations\n",
    "    return out1,out2,...,outm\n",
    "```\n",
    "\n",
    "**Exercise**: Complete the following function to return the minimum element of a list and its index within the list. Test it on the given list "
   ]
  },
  {
   "cell_type": "code",
   "execution_count": null,
   "metadata": {},
   "outputs": [],
   "source": [
    "def min_list(x):\n",
    "    '''\n",
    "    Returns the minimum and its index in the list-like object\n",
    "    \n",
    "    Input:\n",
    "    ---------\n",
    "    x: list-like object\n",
    "        \n",
    "    Output:\n",
    "    ---------\n",
    "    min_x: The minimum value in x\n",
    "    min_index: Index of the minimum value in x\n",
    "    '''\n",
    "    \n",
    "    min_x = x[0]\n",
    "    min_index = 0\n",
    "    \n",
    "    ## Loop through the elements to find the minimum\n",
    "    #### Your code goes here ######\n",
    "    \n",
    "    return min_x, min_index\n",
    "\n",
    "# Test list\n",
    "x = [4,9,1,2,2,7,3,5,6,8]\n",
    "min_list(x)"
   ]
  },
  {
   "cell_type": "markdown",
   "metadata": {},
   "source": [
    "Notice the content within the ''' ''' block. This is called the function's docstring and is a convenient way of documenting functions and returning help files for the user. To access the docstring, use either the `python .__doc__` attribute of the function,"
   ]
  },
  {
   "cell_type": "code",
   "execution_count": null,
   "metadata": {},
   "outputs": [],
   "source": [
    "print(min_list.__doc__)"
   ]
  },
  {
   "cell_type": "markdown",
   "metadata": {},
   "source": [
    "or use the `help` function."
   ]
  },
  {
   "cell_type": "code",
   "execution_count": null,
   "metadata": {},
   "outputs": [],
   "source": [
    "help(min_list)"
   ]
  },
  {
   "cell_type": "markdown",
   "metadata": {},
   "source": [
    "Docstrings are also used for documenting class methods as show in the next example."
   ]
  },
  {
   "cell_type": "markdown",
   "metadata": {},
   "source": [
    "### Classes and Objects"
   ]
  },
  {
   "cell_type": "markdown",
   "metadata": {},
   "source": [
    "Classes and objects are basic concepts of Object Oriented Programming Class. A class is a user defined prototype from which objects are created.\n",
    "Example: in a bank's system you might have a \"customer\" class, where all its attributes like transaction details, withdrawal and deposit details, outstanding debt, etc. would be listed out."
   ]
  },
  {
   "cell_type": "markdown",
   "metadata": {},
   "source": [
    "In Python, classes are defined by the 'class' keyword, and inside classes, you can define functions or methods that are part of this class.\n",
    "\n",
    "The 'self'-argument refers to the object itself. Inside this method, 'self' will refer to the specific instance of this object that's being operated on. By convention, 'self' is  used to indicate the first parameter of instance methods in Python."
   ]
  },
  {
   "cell_type": "code",
   "execution_count": null,
   "metadata": {},
   "outputs": [],
   "source": [
    "class myClass:\n",
    "    def myfunction(self):\n",
    "        print(\"Hello world.\")\n",
    "        "
   ]
  },
  {
   "cell_type": "markdown",
   "metadata": {},
   "source": [
    "To create an instance of our class:"
   ]
  },
  {
   "cell_type": "code",
   "execution_count": null,
   "metadata": {},
   "outputs": [],
   "source": [
    "c = myClass()\n",
    "c.myfunction()   # Note that when calling functions, we do not need to provide the 'self' attribute again."
   ]
  },
  {
   "cell_type": "markdown",
   "metadata": {},
   "source": [
    "A constructor is a class function that instantiates an object to predefined values.\n",
    "By convention, the constructor function's name is \"[double underscore]init[double underscore]\"."
   ]
  },
  {
   "cell_type": "code",
   "execution_count": null,
   "metadata": {},
   "outputs": [],
   "source": [
    "class User:\n",
    "    def __init__(self, name):\n",
    "        self.name = name     # Assign provided 'name' to this instance's 'name' attribute.\n",
    "\n",
    "    def welcome(self):\n",
    "        print(\"Welcome to IEMS 308, \" + self.name)\n",
    "\n",
    "User1 = User(\"Alex\")\n",
    "User1.welcome()"
   ]
  },
  {
   "cell_type": "markdown",
   "metadata": {},
   "source": [
    "Let's check out a more complex example:"
   ]
  },
  {
   "cell_type": "code",
   "execution_count": null,
   "metadata": {},
   "outputs": [],
   "source": [
    "# Example of class and object\n",
    "\n",
    "class Rectangle:  \n",
    "    def __init__(self, length, height):  \n",
    "        ''''' \n",
    "        We write in here what we need to define the object. \n",
    "        Inside the class, we use the defined self-variables as \"self.NameOfVariable\" \n",
    "        '''  \n",
    "        self.length = length  \n",
    "        self.height = height  \n",
    "    def area(self):  # Self-function: Only self-variables required\n",
    "        ''''' \n",
    "        Remember to always specify \"self\" in our class functions\n",
    "        '''  \n",
    "        rec_area=self.length*self.height  \n",
    "        return rec_area  \n",
    "    def horizontal_Concatenation(self, other_rectangle):  \n",
    "        '''\n",
    "        Function that implies the current and another object.  \n",
    "        It creates a new rectangle by merging the current and another rectangle.\n",
    "        As it is a Horizontal concatenation we need equal heights.\n",
    "        Input: \n",
    "        ----- \n",
    "        self: We always have to specify that \n",
    "        other_rectangle: The other rectangle we want to merge \n",
    "         \n",
    "        Output: \n",
    "        ------ \n",
    "        new_rectangle: The merged rectangle '''    \n",
    "        if (self.height != other_rectangle.height):  \n",
    "            print('Ups! I cant do that...Different heights!')  \n",
    "            new_rectangle = 'Error'  \n",
    "        else:  \n",
    "            new_rectangle = Rectangle(self.length+other_rectangle.length, self.height)  \n",
    "        return new_rectangle  \n",
    "          \n",
    "    def vertical_Concatenation(self,other_rectangle):  \n",
    "        ''' \n",
    "        Function that implies the current and another object. \n",
    "        It creates a new rectangle by merging the current and another rectangle.\n",
    "        As it is a vertical concatenation we need equal lengths.\n",
    " \n",
    "        Input: \n",
    "        ----- \n",
    "        self: We always have to specify that \n",
    "        Other_rectangle: The other rectangle we want to merge \n",
    "        \n",
    "        Output: \n",
    "        ------ \n",
    "        new_rectangle: The merged rectangle \n",
    "        '''          \n",
    "        if self.length != other_rectangle.length:  \n",
    "            print('Agh! I cant do that...Different lengths!')  \n",
    "            new_rectangle = 'Error'  \n",
    "        else:  \n",
    "            new_rectangle = Rectangle(self.length, self.height+other_rectangle.height)  \n",
    "        return new_rectangle    \n",
    "\n",
    "\n",
    "a=Rectangle(2,2)  \n",
    "b=Rectangle(2,1)  \n",
    "c = a.vertical_Concatenation(b)  \n",
    "print(c.area())  \n"
   ]
  },
  {
   "cell_type": "markdown",
   "metadata": {},
   "source": [
    "The best practice is to include a global function named 'main', which is the designated start of your program. The syntax to call your 'main' function is shown below:"
   ]
  },
  {
   "cell_type": "code",
   "execution_count": null,
   "metadata": {},
   "outputs": [],
   "source": [
    "class User:\n",
    "    def __init__(self, name):\n",
    "        self.name = name     # Assign provided 'name' to this instance's 'name' attribute.\n",
    "\n",
    "    def welcome(self):\n",
    "        print(\"Welcome to IEMS 308, \" + self.name)\n",
    "\n",
    "def main():\n",
    "    User1 = User(\"Alex\")\n",
    "    User1.welcome()\n",
    "    \n",
    "if __name__== \"__main__\":\n",
    "  main()"
   ]
  },
  {
   "cell_type": "markdown",
   "metadata": {},
   "source": [
    "### Importing Libraries"
   ]
  },
  {
   "cell_type": "code",
   "execution_count": null,
   "metadata": {},
   "outputs": [],
   "source": [
    "# Import libraries\n",
    "import os  # operating system dependent functionality. \n",
    "import numpy as np # support for large, multi-dimensional arrays and matrices, and mathematical functions.\n",
    "import matplotlib.pyplot as plt  #plotting\n",
    "\n",
    "# import specific submodules/functions\n",
    "from sklearn.linear_model import LogisticRegression\n",
    "from sklearn.metrics import accuracy_score \n",
    "\n",
    "# needed if using jupyter notebook\n",
    "%matplotlib inline"
   ]
  },
  {
   "cell_type": "markdown",
   "metadata": {},
   "source": [
    "### Working directory (Get and set)"
   ]
  },
  {
   "cell_type": "code",
   "execution_count": null,
   "metadata": {},
   "outputs": [],
   "source": [
    "# Print current working directory\n",
    "print(os.getcwd())"
   ]
  },
  {
   "cell_type": "code",
   "execution_count": null,
   "metadata": {},
   "outputs": [],
   "source": [
    "# Change working directory\n",
    "# Path can be relative or absolute \n",
    "# Note: Windows users need to use escape sequences for\n",
    "#       absolute paths\n",
    "os.chdir(<path>)\n",
    "\n",
    "# Print new working directory\n",
    "### YOUR CODE GOES HERE"
   ]
  },
  {
   "cell_type": "code",
   "execution_count": null,
   "metadata": {},
   "outputs": [],
   "source": [
    "# Change working directory back to the original one\n",
    "### YOUR CODE GOES HERE"
   ]
  },
  {
   "cell_type": "markdown",
   "metadata": {},
   "source": [
    "## NumPy "
   ]
  },
  {
   "cell_type": "markdown",
   "metadata": {},
   "source": [
    "**Question**: How would you store vectors and matrices using Python built-in types?\n",
    "\n",
    "**Answer**: Lists"
   ]
  },
  {
   "cell_type": "code",
   "execution_count": null,
   "metadata": {},
   "outputs": [],
   "source": [
    "# create a vector\n",
    "a = [1,2,3,4]\n",
    "\n",
    "# create a Matrix\n",
    "A = [[1,2,4],[2,4,5],[9,0,1]]"
   ]
  },
  {
   "cell_type": "markdown",
   "metadata": {},
   "source": [
    "NumPy (short for Numerical Python) provides an easy and efficient way to deal with vectors, matrices and multi-dimensional arrays. "
   ]
  },
  {
   "cell_type": "code",
   "execution_count": null,
   "metadata": {},
   "outputs": [],
   "source": [
    "import numpy as np\n",
    "np.__version__"
   ]
  },
  {
   "cell_type": "markdown",
   "metadata": {},
   "source": [
    "### Creating arrays"
   ]
  },
  {
   "cell_type": "markdown",
   "metadata": {},
   "source": [
    "#### From lists"
   ]
  },
  {
   "cell_type": "code",
   "execution_count": null,
   "metadata": {},
   "outputs": [],
   "source": [
    "np.array([1,2,3,4]) # 1D array"
   ]
  },
  {
   "cell_type": "code",
   "execution_count": null,
   "metadata": {},
   "outputs": [],
   "source": [
    "# 2-D array\n",
    "A = np.array([[1,2,4],[2,4,5],[9,0,1]])"
   ]
  },
  {
   "cell_type": "markdown",
   "metadata": {},
   "source": [
    "If we want to explicitly set the data type of the resulting array, we can use the `dtype` keyword:"
   ]
  },
  {
   "cell_type": "code",
   "execution_count": null,
   "metadata": {},
   "outputs": [],
   "source": [
    "np.array([1,2,3,4],dtype=\"float32\")"
   ]
  },
  {
   "cell_type": "markdown",
   "metadata": {},
   "source": [
    "#### Generating arrays from scratch"
   ]
  },
  {
   "cell_type": "code",
   "execution_count": null,
   "metadata": {},
   "outputs": [],
   "source": [
    "# Initalize 4x6 matrix of ones\n",
    "np.ones((4,6))"
   ]
  },
  {
   "cell_type": "code",
   "execution_count": null,
   "metadata": {},
   "outputs": [],
   "source": [
    "# Integer-vectors of zeros\n",
    "np.zeros(10,dtype=\"int\")"
   ]
  },
  {
   "cell_type": "code",
   "execution_count": null,
   "metadata": {},
   "outputs": [],
   "source": [
    "# First 10 non-negative integers\n",
    "np.arange(10)"
   ]
  },
  {
   "cell_type": "code",
   "execution_count": null,
   "metadata": {},
   "outputs": [],
   "source": [
    "# Sequences of numbers between -1 and 1 spaced by 0.4\n",
    "np.arange(-1,1,0.4)"
   ]
  },
  {
   "cell_type": "code",
   "execution_count": null,
   "metadata": {},
   "outputs": [],
   "source": [
    "# 1d array of uniformly distributed random variables\n",
    "np.random.seed(1245) # set seed for reproducibility\n",
    "np.random.rand(3)"
   ]
  },
  {
   "cell_type": "code",
   "execution_count": null,
   "metadata": {},
   "outputs": [],
   "source": [
    "# 2d array of standard normal distributed variables\n",
    "np.random.seed(1245)\n",
    "np.random.randn(3,5)"
   ]
  },
  {
   "cell_type": "code",
   "execution_count": null,
   "metadata": {},
   "outputs": [],
   "source": [
    "# 3d array of integers\n",
    "np.random.seed(1245)\n",
    "np.random.randint(10, size=(3, 4, 5))"
   ]
  },
  {
   "cell_type": "markdown",
   "metadata": {},
   "source": [
    "**Exercise**: Generate a 1darray (size 6) and 2darray (dimensions 5x4) of uniformly distributed rvs using the randn function. Use seed 678. Denote these arrays by x and x2 respectively."
   ]
  },
  {
   "cell_type": "code",
   "execution_count": null,
   "metadata": {},
   "outputs": [],
   "source": [
    "# Arrays to be used for demonstration\n",
    "### YOUR CODE GOES HERE"
   ]
  },
  {
   "cell_type": "markdown",
   "metadata": {},
   "source": [
    "### Array attributes"
   ]
  },
  {
   "cell_type": "code",
   "execution_count": null,
   "metadata": {},
   "outputs": [],
   "source": [
    "# Basic array attributes\n",
    "print(\"Array ndim: \",x.ndim)\n",
    "print(\"Array shape: \",x.shape)\n",
    "print(\"Array size: \",x.size)\n",
    "print(\"Array dtype: \",x.dtype)"
   ]
  },
  {
   "cell_type": "code",
   "execution_count": null,
   "metadata": {
    "scrolled": true
   },
   "outputs": [],
   "source": [
    "# Basic array attributes\n",
    "print(\"Array ndim: \",x2.ndim)\n",
    "print(\"Array shape: \",x2.shape)\n",
    "print(\"Array size: \",x2.size)\n",
    "print(\"Array dtype: \",x2.dtype)"
   ]
  },
  {
   "cell_type": "markdown",
   "metadata": {},
   "source": [
    "### Array subsetting"
   ]
  },
  {
   "cell_type": "code",
   "execution_count": null,
   "metadata": {},
   "outputs": [],
   "source": [
    "# Single elements on a 1d array\n",
    "# Print the first, last and the element at index 2\n",
    "# Remember that the index begins at 0\n",
    "#### YOUR CODE GOES HERE"
   ]
  },
  {
   "cell_type": "code",
   "execution_count": null,
   "metadata": {},
   "outputs": [],
   "source": [
    "# Single elements on a 2d array\n",
    "# Need two indices\n",
    "# Print the element in the last row and the last-but-one column\n",
    "### YOUR CODE GOES HERE"
   ]
  },
  {
   "cell_type": "markdown",
   "metadata": {},
   "source": [
    "#### Slices and subarrays"
   ]
  },
  {
   "cell_type": "markdown",
   "metadata": {},
   "source": [
    "The syntax for a 1d array is as follows:\n",
    "\n",
    "```python\n",
    "x[start:stop:step]\n",
    "```\n",
    "\n",
    "If not provided, the default values are start = 0, stop = size of dimension, step = 1. Note that stop is exclusive, while start is inclusive.\n",
    "\n",
    "This is similar for multi-dimensional arrays with multiple slices separated by commas."
   ]
  },
  {
   "cell_type": "markdown",
   "metadata": {},
   "source": [
    "**Exercise**: For the 1d array, do the following:\n",
    "\n",
    "1. subset elements from index 2 to index 4, both included\n",
    "2. subset all elements except the first\n",
    "3. subset all elements except the last\n",
    "4. subset every other element"
   ]
  },
  {
   "cell_type": "code",
   "execution_count": null,
   "metadata": {},
   "outputs": [],
   "source": [
    "### YOUR CODE GOES HERE"
   ]
  },
  {
   "cell_type": "markdown",
   "metadata": {},
   "source": [
    "**Exercise**: For the 2d array, do the following:\n",
    "\n",
    "1. subset first to third rows and first and second columns\n",
    "2. assign 1 to all elements of the third column (column 2)\n",
    "3. subset the last-but-one row"
   ]
  },
  {
   "cell_type": "code",
   "execution_count": null,
   "metadata": {},
   "outputs": [],
   "source": [
    "### YOUR CODE GOES HERE"
   ]
  },
  {
   "cell_type": "markdown",
   "metadata": {},
   "source": [
    "#### Logical subsetting"
   ]
  },
  {
   "cell_type": "code",
   "execution_count": null,
   "metadata": {},
   "outputs": [],
   "source": [
    "# subset only non-negative elements\n",
    "x[x>0]"
   ]
  },
  {
   "cell_type": "markdown",
   "metadata": {},
   "source": [
    "### Basic math and broadcasting"
   ]
  },
  {
   "cell_type": "markdown",
   "metadata": {
    "collapsed": true
   },
   "source": [
    "Basic arithmetic operators work on a element-by-element basis. For example:"
   ]
  },
  {
   "cell_type": "code",
   "execution_count": null,
   "metadata": {},
   "outputs": [],
   "source": [
    "np.array([2.,4.,0.5]) * np.array([3,4,5])"
   ]
  },
  {
   "cell_type": "markdown",
   "metadata": {},
   "source": [
    "NumPy has a feature called **broadcasting** which allows these operations to be performed on arrays with different shapes. Subject to certain constraints, the smaller array is “broadcast” across the larger array so that they have compatible shapes. "
   ]
  },
  {
   "cell_type": "markdown",
   "metadata": {},
   "source": [
    "**General broadcasting rules:** (from the NumPy documentation)\n",
    "\n",
    "When operating on two arrays, NumPy compares their shapes element-wise. It starts with the trailing dimensions, and works its way forward. Two dimensions are compatible when\n",
    "\n",
    "1. they are equal, or\n",
    "2. one of them is 1\n",
    "\n",
    "If these conditions are not met, a \"ValueError: frames are not aligned\" exception is thrown, indicating that the arrays have incompatible shapes. The size of the resulting array is the maximum size along each dimension of the input arrays.\n",
    "\n",
    "For a more detailed explanation and examples of compatiable, refer https://docs.scipy.org/doc/numpy-1.15.0/user/basics.broadcasting.html"
   ]
  },
  {
   "cell_type": "code",
   "execution_count": null,
   "metadata": {},
   "outputs": [],
   "source": [
    "# Application: centering columns of 2-d array by a 1-d array\n",
    "np.random.seed(1245)\n",
    "x = np.random.rand(5,3)\n",
    "\n",
    "print(x)\n",
    "print(x+np.array([3,4,5]))"
   ]
  },
  {
   "cell_type": "markdown",
   "metadata": {},
   "source": [
    "###  Common array methods"
   ]
  },
  {
   "cell_type": "markdown",
   "metadata": {},
   "source": [
    "Some examples:\n",
    "\n",
    "| Method call            | Function alternative      | Description                                                 |\n",
    "|------------------------|---------------------------|-------------------------------------------------------------|\n",
    "| x.min()                | np.amin(x)                | Minimum of all elements in array                            |\n",
    "| x.sum()                | np.sum(x)                 | Sum of all elements in array                                |\n",
    "| x.mean(axis=0)         | np.mean(x,axis=0)         | Mean of elements across axis 0 (if 2d array - column means) |\n",
    "| x.sort(axis=1)         | np.sort(x,axis=1)         | Sort array across axis 1 in increasing order                |\n",
    "| x.std(axis=0)          | np.std(x,axis=0)          | Standard deviation of elements across axis 0                |\n",
    "| x.max(axis=1)          | np.amax(x,axis=1)         | Maximum of elements across axis 1                        |\n",
    "| x.argmax()             | np.argmax(x)              | Returns the indices of the maximum values                   |\n",
    "| x.reshape(<new_shape>) | np.reshape(x,<new_shape>) | Reshape array according to new shape                        |"
   ]
  },
  {
   "cell_type": "markdown",
   "metadata": {},
   "source": [
    "**Exercise**: Write a function named `normalize` which accepts a 1d or a 2d array and then performs the following operation:\n",
    "\n",
    "- if the input is a 1d array, center it by its mean and then scale by its standard deviation\n",
    "- if the input is a 2d array, center and scale each column by its respective mean and standard deviation\n",
    "\n",
    "The function should return three arguments: the normalized array (x_normalized), centering factor (loc) and scale factor (scale)."
   ]
  },
  {
   "cell_type": "code",
   "execution_count": null,
   "metadata": {},
   "outputs": [],
   "source": [
    "# input arrays to test on\n",
    "np.random.seed(234)\n",
    "x = 4 + 2*np.random.randn(10,1)\n",
    "x2 = np.array([2,5,3]) + np.array([2,1,3])*np.random.rand(10,3)\n",
    "\n",
    "### YOUR CODE GOES HERE"
   ]
  },
  {
   "cell_type": "markdown",
   "metadata": {},
   "source": [
    "## Load input from files "
   ]
  },
  {
   "cell_type": "code",
   "execution_count": null,
   "metadata": {},
   "outputs": [],
   "source": [
    "import csv\n",
    "iris_list = []\n",
    "\n",
    "# You can use the \"with open()\" syntax for any file - just remember to replace csv.reader\n",
    "# with the corresponding file parser. We will be using this syntax for saving\n",
    "# model data in the later labs\n",
    "with open(\"../data/iris.csv\") as f:\n",
    "    csv_reader = csv.reader(f,delimiter=',')\n",
    "    # extract header and array data\n",
    "    line_count = 0\n",
    "    for row in csv_reader:\n",
    "        if line_count == 0:\n",
    "            col_names = row\n",
    "        else:\n",
    "            iris_list.append(row)\n",
    "        line_count += 1\n",
    "\n",
    "iris = np.array(iris_list,dtype=float)\n",
    "\n",
    "print(\"Column names:\")\n",
    "print(col_names)\n",
    "print(\"\\nFirst 5 rows:\")\n",
    "print(iris[range(5),:])\n",
    "        "
   ]
  },
  {
   "cell_type": "code",
   "execution_count": null,
   "metadata": {},
   "outputs": [],
   "source": [
    "# Using numpy without returning column names\n",
    "iris = np.genfromtxt(\"../data/iris.csv\",delimiter=\",\",names=None,skip_header=1)\n",
    "print(iris[range(5),:])"
   ]
  },
  {
   "cell_type": "markdown",
   "metadata": {},
   "source": [
    "## Plots"
   ]
  },
  {
   "cell_type": "markdown",
   "metadata": {},
   "source": [
    "matplotlib is a widely used plotting library. Its submodule pyplot is used for 2d plots."
   ]
  },
  {
   "cell_type": "code",
   "execution_count": null,
   "metadata": {},
   "outputs": [],
   "source": [
    "# uncomment the following lines if you haven't imported pyplot before\n",
    "# import matplotlib.pyplot as plt\n",
    "# %matplotlib inline\n",
    "\n",
    "# Data for scatter plot demonstration\n",
    "np.random.seed(3456)\n",
    "x = np.random.randn(100)\n",
    "y = np.random.randn(100) + 0.01*x\n",
    "c = 1*(x > 0) + 1*(y>0) # color labels for the points\n",
    "\n",
    "# Scatter plot\n",
    "f = plt.figure()\n",
    "plt.scatter(x,y,c=c);\n",
    "# Axis labels\n",
    "plt.xlabel(\"X-label\")\n",
    "plt.ylabel(\"Y-label\")\n",
    "plt.show()"
   ]
  },
  {
   "cell_type": "code",
   "execution_count": null,
   "metadata": {},
   "outputs": [],
   "source": [
    "# Data for line plot demonstration\n",
    "x = np.array([0,2,3,4,5,10,15,20,27,40])\n",
    "y1 = np.exp(-0.3-0.5*x)\n",
    "y2 = np.exp(-0.5-0.2*x)\n",
    "\n",
    "# Adjust figure size\n",
    "plt.rcParams['figure.figsize']  = [6,4]\n",
    "\n",
    "# Line plot with two different series\n",
    "f = plt.figure()\n",
    "plt.plot(x,y1,\"-ro\",label=\"Red\")\n",
    "plt.plot(x,y2,\"-bo\",label=\"Blue\")\n",
    "# Axis labels\n",
    "plt.xlabel(\"X-label\")\n",
    "plt.ylabel(\"Y-label\")\n",
    "# Legend - loc = 0:best, 1:upperight, 2:upperleft, 3:lowerleft, 4:lowerright, 5:right  \n",
    "plt.legend(loc = 0)\n",
    "plt.show()\n",
    "f.savefig(\"test.png\")"
   ]
  },
  {
   "cell_type": "markdown",
   "metadata": {},
   "source": [
    "**Exercise**: Do a scatter plot of the first two columns of the dataset and color code the points using the last column. The first two columns are 'Sepal_length' and 'Sepal_width'."
   ]
  },
  {
   "cell_type": "code",
   "execution_count": null,
   "metadata": {},
   "outputs": [],
   "source": [
    "### YOUR CODE GOES HERE"
   ]
  },
  {
   "cell_type": "markdown",
   "metadata": {},
   "source": [
    " For a more detailed tutorial on pyplot, check https://matplotlib.org/users/pyplot_tutorial.html"
   ]
  }
 ],
 "metadata": {
  "kernelspec": {
   "display_name": "Python 3",
   "language": "python",
   "name": "python3"
  },
  "language_info": {
   "codemirror_mode": {
    "name": "ipython",
    "version": 3
   },
   "file_extension": ".py",
   "mimetype": "text/x-python",
   "name": "python",
   "nbconvert_exporter": "python",
   "pygments_lexer": "ipython3",
   "version": "3.7.1"
  }
 },
 "nbformat": 4,
 "nbformat_minor": 2
}

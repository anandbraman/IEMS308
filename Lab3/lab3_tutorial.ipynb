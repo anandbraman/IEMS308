{
 "cells": [
  {
   "cell_type": "markdown",
   "metadata": {},
   "source": [
    "# Lab 3: Pandas Tutorial\n",
    "## TA: Andrea Treviño Gavito\n",
    "## Date: January 27th, 2020"
   ]
  },
  {
   "cell_type": "code",
   "execution_count": null,
   "metadata": {
    "collapsed": true
   },
   "outputs": [],
   "source": [
    "# Import libraries (run this block before anything else)\n",
    "import numpy as np\n",
    "import pandas as pd\n",
    "import matplotlib.pyplot as plt\n",
    "\n",
    "# inline plot\n",
    "%matplotlib inline\n",
    "plt.rcParams['figure.figsize'] = (10, 5)"
   ]
  },
  {
   "cell_type": "markdown",
   "metadata": {},
   "source": [
    "## Introduction to pandas\n",
    "\n",
    "This lab is not meant to be a detailed demonstration of Pandas, but rather a tutorial on how to use pandas effectively for data analysis. We will not be going into the finer details. The tutorial and the exercises are, however, self-contained. If you are comfortable with Pandas, in particular with groupby and aggregate, you may skip the tutorial.\n",
    "\n",
    "We will be analyzing the NYC-flights14 dataset in both the tutorial and the exercise. It contains flights data from the Bureau of Transporation Statistics for all the flights that departed from New York City airports from Jan-Oct 2014. The dataset is available at:\n",
    "\n",
    "https://raw.githubusercontent.com/Rdatatable/data.table/master/vignettes/flights14.csv\n",
    "\n",
    "Download it to the `data` folder either using the browser or using `wget` (available only on Linux/Mac) on the command line."
   ]
  },
  {
   "cell_type": "markdown",
   "metadata": {},
   "source": [
    "## Data Structures\n",
    "\n",
    "There are two main data structures implemented in pandas:\n",
    "\n",
    "1. `Series` is a one-dimensional labeled array capable of holding any data type (integers, strings, floating point numbers, Python objects, etc.).\n",
    "2. `DataFrame` is a 2-dimensional labeled data structure with columns of potentially different types. It is similar to R's data.frame. "
   ]
  },
  {
   "cell_type": "markdown",
   "metadata": {},
   "source": [
    "## Reading from delimiter-separated files\n",
    "\n",
    "The `read_csv` function can be used to read delimiter-separated files. By default, it assumes that the file is comma-separated. We read in the flight14 dataset below."
   ]
  },
  {
   "cell_type": "code",
   "execution_count": null,
   "metadata": {
    "collapsed": false,
    "scrolled": true
   },
   "outputs": [],
   "source": [
    "# load the flights14 dataset. Assumed to be in the data folder\n",
    "# read_csv with the default options - first row header and comma-separated file\n",
    "flights = pd.read_csv(\"../data/flights14.csv\")\n",
    "flights.head(10) # print first 10 rows"
   ]
  },
  {
   "cell_type": "markdown",
   "metadata": {},
   "source": [
    "The column names can be accessed from the `.columns` attribute."
   ]
  },
  {
   "cell_type": "code",
   "execution_count": null,
   "metadata": {
    "collapsed": false
   },
   "outputs": [],
   "source": [
    "# column names\n",
    "flights.columns"
   ]
  },
  {
   "cell_type": "markdown",
   "metadata": {},
   "source": [
    "## Selecting rows and columns\n",
    "\n",
    "To select a particular column, we can index with its name. This can also be use to set values or create new columns."
   ]
  },
  {
   "cell_type": "code",
   "execution_count": null,
   "metadata": {
    "collapsed": false
   },
   "outputs": [],
   "source": [
    "# select the carrier column\n",
    "# you can also use flights.carrier\n",
    "flights[\"carrier\"]"
   ]
  },
  {
   "cell_type": "code",
   "execution_count": null,
   "metadata": {
    "collapsed": false
   },
   "outputs": [],
   "source": [
    "# create new column - delays other than departure delay\n",
    "flights[\"other_delays\"] = flights[\"arr_delay\"]-flights[\"dep_delay\"]\n",
    "flights.head()"
   ]
  },
  {
   "cell_type": "markdown",
   "metadata": {},
   "source": [
    "You can also access the individual columns as attributes. For example, `flights.carrier` will return the \"carrier\" column. Note that this syntax **cannot** be used to create new columns.\n",
    "\n",
    "For selecting multiple columns, pass them as a list. For example, to select the \"carrier\" and \"origin\" columns:"
   ]
  },
  {
   "cell_type": "code",
   "execution_count": null,
   "metadata": {
    "collapsed": false
   },
   "outputs": [],
   "source": [
    "# selecting multiple columns\n",
    "flights[[\"carrier\",\"origin\"]]"
   ]
  },
  {
   "cell_type": "markdown",
   "metadata": {},
   "source": [
    "You can subset rows by regular numerical slices."
   ]
  },
  {
   "cell_type": "code",
   "execution_count": null,
   "metadata": {
    "collapsed": false
   },
   "outputs": [],
   "source": [
    "# slicing the first five rows\n",
    "flights[:5]"
   ]
  },
  {
   "cell_type": "code",
   "execution_count": null,
   "metadata": {
    "collapsed": false
   },
   "outputs": [],
   "source": [
    "# selecting the last 6 rows\n",
    "flights[-6:] # negative indexing"
   ]
  },
  {
   "cell_type": "markdown",
   "metadata": {},
   "source": [
    "You can combine row and column selection by doing each one succession in any order. For example, the following code \n",
    "\n",
    "1. first selects rows 23 to 29 (30 excluded)\n",
    "2. then selects the carrier and origin column\n",
    "\n",
    "The order can be reversed."
   ]
  },
  {
   "cell_type": "code",
   "execution_count": null,
   "metadata": {
    "collapsed": false
   },
   "outputs": [],
   "source": [
    "# combining both row slicing and column selection\n",
    "flights[23:30][[\"carrier\",\"origin\"]]"
   ]
  },
  {
   "cell_type": "markdown",
   "metadata": {},
   "source": [
    "You can also subset rows and columns using traditional numerical slices with the `iloc` method. For example, the following code subsets rows 2 to 4 and columns 4 to 8."
   ]
  },
  {
   "cell_type": "code",
   "execution_count": null,
   "metadata": {
    "collapsed": false
   },
   "outputs": [],
   "source": [
    "# Subsetting using numbers\n",
    "flights.iloc[2:5,4:9]"
   ]
  },
  {
   "cell_type": "markdown",
   "metadata": {},
   "source": [
    "## Logical subsets"
   ]
  },
  {
   "cell_type": "code",
   "execution_count": null,
   "metadata": {
    "collapsed": false
   },
   "outputs": [],
   "source": [
    "# subset departures from JFK\n",
    "dat_JFK = flights[flights.origin==\"JFK\"]\n",
    "dat_JFK"
   ]
  },
  {
   "cell_type": "code",
   "execution_count": null,
   "metadata": {
    "collapsed": false
   },
   "outputs": [],
   "source": [
    "# departues in either Los Angeles and San Francisco \n",
    "dat_cal = flights[flights.dest.isin([\"LAX\",\"SFO\"])]\n",
    "dat_cal"
   ]
  },
  {
   "cell_type": "code",
   "execution_count": null,
   "metadata": {
    "collapsed": false
   },
   "outputs": [],
   "source": [
    "# Example of numerical column bases subsetting\n",
    "# Subset delayed arrivals\n",
    "flights[flights.arr_delay>0]"
   ]
  },
  {
   "cell_type": "code",
   "execution_count": null,
   "metadata": {
    "collapsed": false
   },
   "outputs": [],
   "source": [
    "# multiple conditions can be combined using logical operators.\n",
    "# Logical Operators in Pandas are &, | and ~ \n",
    "# subset departs from JFK to Los Angeles\n",
    "flights[(flights.origin==\"JFK\") & (flights.dest==\"LAX\")]"
   ]
  },
  {
   "cell_type": "markdown",
   "metadata": {},
   "source": [
    "You can combine logical subsets and selecting individual columns. The following code\n",
    "\n",
    "1. selects flights which cover more than 2500 miles\n",
    "2. then subsets the origin, dest, and distance columns\n",
    "3. and finally, selects only unique rows."
   ]
  },
  {
   "cell_type": "code",
   "execution_count": null,
   "metadata": {
    "collapsed": false
   },
   "outputs": [],
   "source": [
    "flights[flights.distance>2500][[\"origin\",\"dest\",\"distance\"]].drop_duplicates()"
   ]
  },
  {
   "cell_type": "markdown",
   "metadata": {},
   "source": [
    "Teh above `DataFrame` shows unique origin-destination pairs whose distance is greater than 2500 miles. These are direct flights from east-coast to cities in California (San Francisco, Sacremento, Oakland, San Jose), Alaska and Hawaii."
   ]
  },
  {
   "cell_type": "markdown",
   "metadata": {},
   "source": [
    "## Basic aggregation - counting\n",
    "\n",
    "**Question**: What are the most common destinations from NYC airports?\n",
    "\n",
    "The total number of flights to each destination can be found by using the `value_counts` method of the destination column. It returns the counts sorted in descending order. We can then select the top 10 destinations using regular row selections."
   ]
  },
  {
   "cell_type": "code",
   "execution_count": null,
   "metadata": {
    "collapsed": false
   },
   "outputs": [],
   "source": [
    "flights.dest.value_counts()"
   ]
  },
  {
   "cell_type": "code",
   "execution_count": null,
   "metadata": {
    "collapsed": false
   },
   "outputs": [],
   "source": [
    "# select only the top 10 destinations and print a bar plot\n",
    "top10 = flights.dest.value_counts()[:10]\n",
    "top10.plot(kind=\"bar\")\n",
    "plt.ylabel(\"Total number of flights\")\n",
    "plt.show()"
   ]
  },
  {
   "cell_type": "markdown",
   "metadata": {},
   "source": [
    "What about the carriers with the most number of flights? We can do it using the `value_counts` method of the carrier column."
   ]
  },
  {
   "cell_type": "code",
   "execution_count": null,
   "metadata": {
    "collapsed": false,
    "scrolled": true
   },
   "outputs": [],
   "source": [
    "# Number of flights per carrier\n",
    "flights.carrier.value_counts()"
   ]
  },
  {
   "cell_type": "markdown",
   "metadata": {},
   "source": [
    "A more interesting question would be the number of flights for each carrier from each of the NYC airports. This can be done using the `crosstab` function."
   ]
  },
  {
   "cell_type": "code",
   "execution_count": null,
   "metadata": {
    "collapsed": false
   },
   "outputs": [],
   "source": [
    "# Number of flights per carrier and origin airport\n",
    "pd.crosstab(flights.carrier,flights.origin,margins=True)"
   ]
  },
  {
   "cell_type": "markdown",
   "metadata": {},
   "source": [
    "## Groupby and aggregate\n",
    "\n",
    "Suppose we want to analyze data for each of the three origin airports separately. One way would be to use logical subsets to create three new dataframes, one for each origin airport. \n",
    "\n",
    "The `groupby` method provides a convenient way to split the dataset by groups (in this case - groups in a single column) instead of manually creating subsets. It returns a `GroupBy` object. The different groups can then be iteratively accessed. This can be useful for doing similar analysis (eg: plots,logical subsets, etc.) on all the groups."
   ]
  },
  {
   "cell_type": "code",
   "execution_count": null,
   "metadata": {
    "collapsed": false
   },
   "outputs": [],
   "source": [
    "origin_groups = flights.groupby(by=[\"origin\"])\n",
    "for group_name,group_dat in origin_groups:\n",
    "    print(\"Origin Airport: {}\".format(group_name))\n",
    "    print(group_dat.head(5))\n",
    "    print(\"*************\")"
   ]
  },
  {
   "cell_type": "markdown",
   "metadata": {},
   "source": [
    "A more useful feature of the `GroupBy` object is its `agg` or `aggregate` methods. These allow you to obtain summary statistics for some or all of the columns. The summary statistics for the columns can either be the same or different (particularly when they of different datatypes).\n",
    "\n",
    "If the same summary statistic(s) is to be returned for all the groups, pass a list of functions/ function names (not always available). "
   ]
  },
  {
   "cell_type": "code",
   "execution_count": null,
   "metadata": {
    "collapsed": false
   },
   "outputs": [],
   "source": [
    "origin_groups[[\"arr_delay\",\"dep_delay\"]].agg(['mean','median',np.std])"
   ]
  },
  {
   "cell_type": "markdown",
   "metadata": {},
   "source": [
    "If different statistics are to be computed for different groups, pass a dictionary whose keys are the columns and their corresponding values are either a function or a list of functions (Names can be passed when available)."
   ]
  },
  {
   "cell_type": "code",
   "execution_count": null,
   "metadata": {
    "collapsed": false
   },
   "outputs": [],
   "source": [
    "dat_summary = origin_groups.agg({\"arr_delay\":['mean','median','std'],\n",
    "                                \"dep_delay\":['min','median',np.max],\n",
    "                                \"distance\":['mean'],\n",
    "                                \"dest\":[pd.Series.nunique],\n",
    "                                \"origin\":'count'})\n",
    "dat_summary"
   ]
  },
  {
   "cell_type": "markdown",
   "metadata": {},
   "source": [
    "To access the statistics for the individual columns, you can subset them like a regular DataFrame."
   ]
  },
  {
   "cell_type": "code",
   "execution_count": null,
   "metadata": {
    "collapsed": false
   },
   "outputs": [],
   "source": [
    "# subset summary statistics of arr_delay\n",
    "dat_summary[\"arr_delay\"]"
   ]
  },
  {
   "cell_type": "markdown",
   "metadata": {},
   "source": [
    "Groups need not be restricted to single columns. You can group by multiple columns. For example, "
   ]
  },
  {
   "cell_type": "code",
   "execution_count": null,
   "metadata": {
    "collapsed": false
   },
   "outputs": [],
   "source": [
    "# groupby both origin and carrier\n",
    "dat_multi_groups = flights.groupby(by=[\"origin\",\"carrier\"]).agg({\"arr_delay\":['mean','median','std']})\n",
    "dat_multi_groups"
   ]
  },
  {
   "cell_type": "markdown",
   "metadata": {},
   "source": [
    "## (Row) Index\n",
    "\n",
    "For dataframes and series, index is the 'label' of the rows/observations. This can be used for identification and selection purposes. The index can be accessed by the `.index` method."
   ]
  },
  {
   "cell_type": "code",
   "execution_count": null,
   "metadata": {
    "collapsed": false
   },
   "outputs": [],
   "source": [
    "# Index of flights dataset\n",
    "flights.index"
   ]
  },
  {
   "cell_type": "markdown",
   "metadata": {},
   "source": [
    "The index is not the same as the row number. For example,"
   ]
  },
  {
   "cell_type": "code",
   "execution_count": null,
   "metadata": {
    "collapsed": false
   },
   "outputs": [],
   "source": [
    "flights[flights.carrier==\"OO\"].index"
   ]
  },
  {
   "cell_type": "code",
   "execution_count": null,
   "metadata": {
    "collapsed": false
   },
   "outputs": [],
   "source": [
    "# Shuffle rows and print the first 10\n",
    "flights.sample(frac=1,random_state=1)[:10]"
   ]
  },
  {
   "cell_type": "markdown",
   "metadata": {},
   "source": [
    "To reset the index after performing the operation, use the `reset_index` method."
   ]
  },
  {
   "cell_type": "code",
   "execution_count": null,
   "metadata": {
    "collapsed": false
   },
   "outputs": [],
   "source": [
    "# Shuffle rows, drop indices and print the first 10\n",
    "flights.sample(frac=1,random_state=1).reset_index(drop=True).head(n=10)"
   ]
  },
  {
   "cell_type": "markdown",
   "metadata": {},
   "source": [
    "To subset by index, you can use the `.loc` method. For example, to return the first few flights of `OO` carrier in 2014:"
   ]
  },
  {
   "cell_type": "code",
   "execution_count": null,
   "metadata": {
    "collapsed": false
   },
   "outputs": [],
   "source": [
    "flights.loc[flights[flights.carrier==\"OO\"].index[:10]]"
   ]
  },
  {
   "cell_type": "markdown",
   "metadata": {},
   "source": [
    "Indexes are not restricted to being integer types - they can be of any type. For instance, the index of the top10 Series is of string type."
   ]
  },
  {
   "cell_type": "code",
   "execution_count": null,
   "metadata": {
    "collapsed": false
   },
   "outputs": [],
   "source": [
    "print(top10.index)"
   ]
  },
  {
   "cell_type": "markdown",
   "metadata": {},
   "source": [
    "If you want to replace this index with a regular RangeIndex and add the original index as the column, use the `reset_index` method with argument `drop=False` "
   ]
  },
  {
   "cell_type": "code",
   "execution_count": null,
   "metadata": {
    "collapsed": false
   },
   "outputs": [],
   "source": [
    "top10.reset_index(drop=False,name=\"count\")"
   ]
  },
  {
   "cell_type": "markdown",
   "metadata": {},
   "source": [
    "The groupby aggregates created in the previous section have the group names as indices. For example:"
   ]
  },
  {
   "cell_type": "code",
   "execution_count": null,
   "metadata": {
    "collapsed": false
   },
   "outputs": [],
   "source": [
    "dat_summary.index"
   ]
  },
  {
   "cell_type": "code",
   "execution_count": null,
   "metadata": {
    "collapsed": false
   },
   "outputs": [],
   "source": [
    "# multi-level indices \n",
    "dat_multi_groups.index"
   ]
  },
  {
   "cell_type": "markdown",
   "metadata": {},
   "source": [
    "Examples of accessing elements by index:"
   ]
  },
  {
   "cell_type": "code",
   "execution_count": null,
   "metadata": {
    "collapsed": false
   },
   "outputs": [],
   "source": [
    "# airports in New York City\n",
    "dat_summary.loc[['LGA','JFK']]"
   ]
  },
  {
   "cell_type": "code",
   "execution_count": null,
   "metadata": {
    "collapsed": false
   },
   "outputs": [],
   "source": [
    "# UA and AA from JFK\n",
    "dat_multi_groups.loc[[('JFK','UA'),('JFK','AA')]]"
   ]
  },
  {
   "cell_type": "code",
   "execution_count": null,
   "metadata": {
    "collapsed": true
   },
   "outputs": [],
   "source": []
  }
 ],
 "metadata": {
  "kernelspec": {
   "display_name": "Python 2",
   "language": "python",
   "name": "python2"
  },
  "language_info": {
   "codemirror_mode": {
    "name": "ipython",
    "version": 2
   },
   "file_extension": ".py",
   "mimetype": "text/x-python",
   "name": "python",
   "nbconvert_exporter": "python",
   "pygments_lexer": "ipython2",
   "version": "2.7.17"
  }
 },
 "nbformat": 4,
 "nbformat_minor": 2
}
